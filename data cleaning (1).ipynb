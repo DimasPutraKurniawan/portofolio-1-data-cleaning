{
 "cells": [
  {
   "cell_type": "code",
   "execution_count": 3,
   "id": "40a8aca0",
   "metadata": {},
   "outputs": [],
   "source": [
    "import pandas as pd\n",
    "import matplotlib.pyplot as plt\n",
    "import numpy as np\n",
    "import seaborn as sns"
   ]
  },
  {
   "cell_type": "code",
   "execution_count": 4,
   "id": "b6fc4fae",
   "metadata": {},
   "outputs": [
    {
     "data": {
      "text/html": [
       "<div>\n",
       "<style scoped>\n",
       "    .dataframe tbody tr th:only-of-type {\n",
       "        vertical-align: middle;\n",
       "    }\n",
       "\n",
       "    .dataframe tbody tr th {\n",
       "        vertical-align: top;\n",
       "    }\n",
       "\n",
       "    .dataframe thead th {\n",
       "        text-align: right;\n",
       "    }\n",
       "</style>\n",
       "<table border=\"1\" class=\"dataframe\">\n",
       "  <thead>\n",
       "    <tr style=\"text-align: right;\">\n",
       "      <th></th>\n",
       "      <th>company</th>\n",
       "      <th>location</th>\n",
       "      <th>industry</th>\n",
       "      <th>total_laid_off</th>\n",
       "      <th>percentage_laid_off</th>\n",
       "      <th>date</th>\n",
       "      <th>stage</th>\n",
       "      <th>country</th>\n",
       "      <th>funds_raised_millions</th>\n",
       "    </tr>\n",
       "  </thead>\n",
       "  <tbody>\n",
       "    <tr>\n",
       "      <th>0</th>\n",
       "      <td>Atlassian</td>\n",
       "      <td>Sydney</td>\n",
       "      <td>Other</td>\n",
       "      <td>500.0</td>\n",
       "      <td>0.05</td>\n",
       "      <td>3/6/2023</td>\n",
       "      <td>Post-IPO</td>\n",
       "      <td>Australia</td>\n",
       "      <td>210.0</td>\n",
       "    </tr>\n",
       "    <tr>\n",
       "      <th>1</th>\n",
       "      <td>SiriusXM</td>\n",
       "      <td>New York City</td>\n",
       "      <td>Media</td>\n",
       "      <td>475.0</td>\n",
       "      <td>0.08</td>\n",
       "      <td>3/6/2023</td>\n",
       "      <td>Post-IPO</td>\n",
       "      <td>United States</td>\n",
       "      <td>525.0</td>\n",
       "    </tr>\n",
       "    <tr>\n",
       "      <th>2</th>\n",
       "      <td>Alerzo</td>\n",
       "      <td>Ibadan</td>\n",
       "      <td>Retail</td>\n",
       "      <td>400.0</td>\n",
       "      <td>NaN</td>\n",
       "      <td>3/6/2023</td>\n",
       "      <td>Series B</td>\n",
       "      <td>Nigeria</td>\n",
       "      <td>16.0</td>\n",
       "    </tr>\n",
       "    <tr>\n",
       "      <th>3</th>\n",
       "      <td>UpGrad</td>\n",
       "      <td>Mumbai</td>\n",
       "      <td>Education</td>\n",
       "      <td>120.0</td>\n",
       "      <td>NaN</td>\n",
       "      <td>3/6/2023</td>\n",
       "      <td>Unknown</td>\n",
       "      <td>India</td>\n",
       "      <td>631.0</td>\n",
       "    </tr>\n",
       "    <tr>\n",
       "      <th>4</th>\n",
       "      <td>Loft</td>\n",
       "      <td>Sao Paulo</td>\n",
       "      <td>Real Estate</td>\n",
       "      <td>340.0</td>\n",
       "      <td>0.15</td>\n",
       "      <td>3/3/2023</td>\n",
       "      <td>Unknown</td>\n",
       "      <td>Brazil</td>\n",
       "      <td>788.0</td>\n",
       "    </tr>\n",
       "    <tr>\n",
       "      <th>...</th>\n",
       "      <td>...</td>\n",
       "      <td>...</td>\n",
       "      <td>...</td>\n",
       "      <td>...</td>\n",
       "      <td>...</td>\n",
       "      <td>...</td>\n",
       "      <td>...</td>\n",
       "      <td>...</td>\n",
       "      <td>...</td>\n",
       "    </tr>\n",
       "    <tr>\n",
       "      <th>2356</th>\n",
       "      <td>Blackbaud</td>\n",
       "      <td>Charleston</td>\n",
       "      <td>Other</td>\n",
       "      <td>500.0</td>\n",
       "      <td>0.14</td>\n",
       "      <td>NaN</td>\n",
       "      <td>Post-IPO</td>\n",
       "      <td>United States</td>\n",
       "      <td>NaN</td>\n",
       "    </tr>\n",
       "    <tr>\n",
       "      <th>2357</th>\n",
       "      <td>Yahoo</td>\n",
       "      <td>SF Bay Area</td>\n",
       "      <td>Consumer</td>\n",
       "      <td>1600.0</td>\n",
       "      <td>0.20</td>\n",
       "      <td>2/9/2023</td>\n",
       "      <td>Acquired</td>\n",
       "      <td>United States</td>\n",
       "      <td>6.0</td>\n",
       "    </tr>\n",
       "    <tr>\n",
       "      <th>2358</th>\n",
       "      <td>Hibob</td>\n",
       "      <td>Tel Aviv</td>\n",
       "      <td>HR</td>\n",
       "      <td>70.0</td>\n",
       "      <td>0.30</td>\n",
       "      <td>3/30/2020</td>\n",
       "      <td>Series A</td>\n",
       "      <td>Israel</td>\n",
       "      <td>45.0</td>\n",
       "    </tr>\n",
       "    <tr>\n",
       "      <th>2359</th>\n",
       "      <td>Casper</td>\n",
       "      <td>New York City</td>\n",
       "      <td>Retail</td>\n",
       "      <td>NaN</td>\n",
       "      <td>NaN</td>\n",
       "      <td>9/14/2021</td>\n",
       "      <td>Post-IPO</td>\n",
       "      <td>United States</td>\n",
       "      <td>339.0</td>\n",
       "    </tr>\n",
       "    <tr>\n",
       "      <th>2360</th>\n",
       "      <td>Wildlife Studios</td>\n",
       "      <td>Sao Paulo</td>\n",
       "      <td>Consumer</td>\n",
       "      <td>300.0</td>\n",
       "      <td>0.20</td>\n",
       "      <td>11/28/2022</td>\n",
       "      <td>Unknown</td>\n",
       "      <td>Brazil</td>\n",
       "      <td>260.0</td>\n",
       "    </tr>\n",
       "  </tbody>\n",
       "</table>\n",
       "<p>2361 rows × 9 columns</p>\n",
       "</div>"
      ],
      "text/plain": [
       "               company       location     industry  total_laid_off  \\\n",
       "0            Atlassian         Sydney        Other           500.0   \n",
       "1             SiriusXM  New York City        Media           475.0   \n",
       "2               Alerzo         Ibadan       Retail           400.0   \n",
       "3               UpGrad         Mumbai    Education           120.0   \n",
       "4                 Loft      Sao Paulo  Real Estate           340.0   \n",
       "...                ...            ...          ...             ...   \n",
       "2356         Blackbaud     Charleston        Other           500.0   \n",
       "2357             Yahoo    SF Bay Area     Consumer          1600.0   \n",
       "2358             Hibob       Tel Aviv           HR            70.0   \n",
       "2359            Casper  New York City       Retail             NaN   \n",
       "2360  Wildlife Studios      Sao Paulo     Consumer           300.0   \n",
       "\n",
       "      percentage_laid_off        date     stage        country  \\\n",
       "0                    0.05    3/6/2023  Post-IPO      Australia   \n",
       "1                    0.08    3/6/2023  Post-IPO  United States   \n",
       "2                     NaN    3/6/2023  Series B        Nigeria   \n",
       "3                     NaN    3/6/2023   Unknown          India   \n",
       "4                    0.15    3/3/2023   Unknown         Brazil   \n",
       "...                   ...         ...       ...            ...   \n",
       "2356                 0.14         NaN  Post-IPO  United States   \n",
       "2357                 0.20    2/9/2023  Acquired  United States   \n",
       "2358                 0.30   3/30/2020  Series A         Israel   \n",
       "2359                  NaN   9/14/2021  Post-IPO  United States   \n",
       "2360                 0.20  11/28/2022   Unknown         Brazil   \n",
       "\n",
       "      funds_raised_millions  \n",
       "0                     210.0  \n",
       "1                     525.0  \n",
       "2                      16.0  \n",
       "3                     631.0  \n",
       "4                     788.0  \n",
       "...                     ...  \n",
       "2356                    NaN  \n",
       "2357                    6.0  \n",
       "2358                   45.0  \n",
       "2359                  339.0  \n",
       "2360                  260.0  \n",
       "\n",
       "[2361 rows x 9 columns]"
      ]
     },
     "execution_count": 4,
     "metadata": {},
     "output_type": "execute_result"
    }
   ],
   "source": [
    "#Import data\n",
    "df = pd.read_csv('layoffs.csv')\n",
    "df"
   ]
  },
  {
   "cell_type": "markdown",
   "id": "8aeb7eba",
   "metadata": {},
   "source": [
    "# Data Cleaning"
   ]
  },
  {
   "cell_type": "code",
   "execution_count": 6,
   "id": "29c98d8d",
   "metadata": {
    "scrolled": true
   },
   "outputs": [
    {
     "data": {
      "text/plain": [
       "company                    0\n",
       "location                   0\n",
       "industry                   4\n",
       "total_laid_off           740\n",
       "percentage_laid_off      785\n",
       "date                       1\n",
       "stage                      6\n",
       "country                    0\n",
       "funds_raised_millions    209\n",
       "dtype: int64"
      ]
     },
     "execution_count": 6,
     "metadata": {},
     "output_type": "execute_result"
    }
   ],
   "source": [
    "#Mengecek jumlah isi kolom yang kosong (NaN)\n",
    "df.isnull().sum()"
   ]
  },
  {
   "cell_type": "code",
   "execution_count": 7,
   "id": "e016a984",
   "metadata": {},
   "outputs": [
    {
     "data": {
      "text/html": [
       "<div>\n",
       "<style scoped>\n",
       "    .dataframe tbody tr th:only-of-type {\n",
       "        vertical-align: middle;\n",
       "    }\n",
       "\n",
       "    .dataframe tbody tr th {\n",
       "        vertical-align: top;\n",
       "    }\n",
       "\n",
       "    .dataframe thead th {\n",
       "        text-align: right;\n",
       "    }\n",
       "</style>\n",
       "<table border=\"1\" class=\"dataframe\">\n",
       "  <thead>\n",
       "    <tr style=\"text-align: right;\">\n",
       "      <th></th>\n",
       "      <th>company</th>\n",
       "      <th>location</th>\n",
       "      <th>industry</th>\n",
       "      <th>total_laid_off</th>\n",
       "      <th>percentage_laid_off</th>\n",
       "      <th>date</th>\n",
       "      <th>stage</th>\n",
       "      <th>country</th>\n",
       "      <th>funds_raised_millions</th>\n",
       "    </tr>\n",
       "  </thead>\n",
       "  <tbody>\n",
       "    <tr>\n",
       "      <th>8</th>\n",
       "      <td>Airbnb</td>\n",
       "      <td>SF Bay Area</td>\n",
       "      <td>NaN</td>\n",
       "      <td>30.0</td>\n",
       "      <td>NaN</td>\n",
       "      <td>3/3/2023</td>\n",
       "      <td>Post-IPO</td>\n",
       "      <td>United States</td>\n",
       "      <td>6400.0</td>\n",
       "    </tr>\n",
       "    <tr>\n",
       "      <th>330</th>\n",
       "      <td>Bally's Interactive</td>\n",
       "      <td>Providence</td>\n",
       "      <td>NaN</td>\n",
       "      <td>NaN</td>\n",
       "      <td>0.15</td>\n",
       "      <td>1/18/2023</td>\n",
       "      <td>Post-IPO</td>\n",
       "      <td>United States</td>\n",
       "      <td>946.0</td>\n",
       "    </tr>\n",
       "    <tr>\n",
       "      <th>736</th>\n",
       "      <td>Juul</td>\n",
       "      <td>SF Bay Area</td>\n",
       "      <td>NaN</td>\n",
       "      <td>400.0</td>\n",
       "      <td>0.30</td>\n",
       "      <td>11/10/2022</td>\n",
       "      <td>Unknown</td>\n",
       "      <td>United States</td>\n",
       "      <td>1500.0</td>\n",
       "    </tr>\n",
       "    <tr>\n",
       "      <th>1595</th>\n",
       "      <td>Carvana</td>\n",
       "      <td>Phoenix</td>\n",
       "      <td>NaN</td>\n",
       "      <td>2500.0</td>\n",
       "      <td>0.12</td>\n",
       "      <td>5/10/2022</td>\n",
       "      <td>Post-IPO</td>\n",
       "      <td>United States</td>\n",
       "      <td>1600.0</td>\n",
       "    </tr>\n",
       "  </tbody>\n",
       "</table>\n",
       "</div>"
      ],
      "text/plain": [
       "                  company     location industry  total_laid_off  \\\n",
       "8                  Airbnb  SF Bay Area      NaN            30.0   \n",
       "330   Bally's Interactive   Providence      NaN             NaN   \n",
       "736                  Juul  SF Bay Area      NaN           400.0   \n",
       "1595              Carvana      Phoenix      NaN          2500.0   \n",
       "\n",
       "      percentage_laid_off        date     stage        country  \\\n",
       "8                     NaN    3/3/2023  Post-IPO  United States   \n",
       "330                  0.15   1/18/2023  Post-IPO  United States   \n",
       "736                  0.30  11/10/2022   Unknown  United States   \n",
       "1595                 0.12   5/10/2022  Post-IPO  United States   \n",
       "\n",
       "      funds_raised_millions  \n",
       "8                    6400.0  \n",
       "330                   946.0  \n",
       "736                  1500.0  \n",
       "1595                 1600.0  "
      ]
     },
     "execution_count": 7,
     "metadata": {},
     "output_type": "execute_result"
    }
   ],
   "source": [
    "#Mengecek data kolom industry yang kosong (NaN) pada kolom industry\n",
    "df[df['industry'].isna()==1]"
   ]
  },
  {
   "cell_type": "code",
   "execution_count": 8,
   "id": "39af5401",
   "metadata": {},
   "outputs": [
    {
     "name": "stdout",
     "output_type": "stream",
     "text": [
      "\n",
      "Frekuensi kemunculan karakter:\n",
      "Finance            284\n",
      "Retail             195\n",
      "Healthcare         183\n",
      "Transportation     148\n",
      "Food               141\n",
      "Marketing          139\n",
      "Other              129\n",
      "Consumer           118\n",
      "Real Estate        117\n",
      "Crypto              99\n",
      "Media               95\n",
      "Education           93\n",
      "Data                79\n",
      "Security            74\n",
      "HR                  66\n",
      "Travel              66\n",
      "Support             43\n",
      "Infrastructure      43\n",
      "Logistics           42\n",
      "Sales               37\n",
      "Product             35\n",
      "Fitness             31\n",
      "Recruiting          28\n",
      "Hardware            17\n",
      "Construction        16\n",
      "Legal               13\n",
      "Energy              12\n",
      "Aerospace            6\n",
      "Fin-Tech             3\n",
      "Crypto Currency      2\n",
      "Manufacturing        2\n",
      "CryptoCurrency       1\n",
      "Name: industry, dtype: int64\n"
     ]
    }
   ],
   "source": [
    "# Menghitung frekuensi kemunculan karakter\n",
    "char_counts = df['industry'].value_counts()\n",
    "print(\"\\nFrekuensi kemunculan karakter:\")\n",
    "print(char_counts)"
   ]
  },
  {
   "cell_type": "code",
   "execution_count": 9,
   "id": "a749b058",
   "metadata": {},
   "outputs": [
    {
     "name": "stdout",
     "output_type": "stream",
     "text": [
      "\n",
      "Karakter yang paling sering muncul:\n",
      "Finance\n"
     ]
    }
   ],
   "source": [
    "# Menentukan karakter yang paling sering muncul\n",
    "most_frequent_industry = char_counts.idxmax()\n",
    "print(\"\\nKarakter yang paling sering muncul:\")\n",
    "print(most_frequent_industry)"
   ]
  },
  {
   "cell_type": "code",
   "execution_count": 10,
   "id": "f10c5828",
   "metadata": {},
   "outputs": [],
   "source": [
    "#Mengisi nilai kosong pada kolom industri dengan nilai yang sering muncul\n",
    "df['industry'].fillna('Finance', inplace=True)"
   ]
  },
  {
   "cell_type": "code",
   "execution_count": 11,
   "id": "157cf416",
   "metadata": {},
   "outputs": [
    {
     "data": {
      "text/plain": [
       "company                    0\n",
       "location                   0\n",
       "industry                   0\n",
       "total_laid_off           740\n",
       "percentage_laid_off      785\n",
       "date                       1\n",
       "stage                      6\n",
       "country                    0\n",
       "funds_raised_millions    209\n",
       "dtype: int64"
      ]
     },
     "execution_count": 11,
     "metadata": {},
     "output_type": "execute_result"
    }
   ],
   "source": [
    "#Mengecek nilai kosong kolom industry\n",
    "df.isnull().sum()"
   ]
  },
  {
   "cell_type": "code",
   "execution_count": 12,
   "id": "4aa5ec50",
   "metadata": {},
   "outputs": [
    {
     "data": {
      "text/html": [
       "<div>\n",
       "<style scoped>\n",
       "    .dataframe tbody tr th:only-of-type {\n",
       "        vertical-align: middle;\n",
       "    }\n",
       "\n",
       "    .dataframe tbody tr th {\n",
       "        vertical-align: top;\n",
       "    }\n",
       "\n",
       "    .dataframe thead th {\n",
       "        text-align: right;\n",
       "    }\n",
       "</style>\n",
       "<table border=\"1\" class=\"dataframe\">\n",
       "  <thead>\n",
       "    <tr style=\"text-align: right;\">\n",
       "      <th></th>\n",
       "      <th>company</th>\n",
       "      <th>location</th>\n",
       "      <th>industry</th>\n",
       "      <th>total_laid_off</th>\n",
       "      <th>percentage_laid_off</th>\n",
       "      <th>date</th>\n",
       "      <th>stage</th>\n",
       "      <th>country</th>\n",
       "      <th>funds_raised_millions</th>\n",
       "    </tr>\n",
       "  </thead>\n",
       "  <tbody>\n",
       "    <tr>\n",
       "      <th>392</th>\n",
       "      <td>Verily</td>\n",
       "      <td>SF Bay Area</td>\n",
       "      <td>Healthcare</td>\n",
       "      <td>250.0</td>\n",
       "      <td>0.15</td>\n",
       "      <td>1/11/2023</td>\n",
       "      <td>NaN</td>\n",
       "      <td>United States</td>\n",
       "      <td>3500.0</td>\n",
       "    </tr>\n",
       "    <tr>\n",
       "      <th>414</th>\n",
       "      <td>Relevel</td>\n",
       "      <td>Bengaluru</td>\n",
       "      <td>HR</td>\n",
       "      <td>40.0</td>\n",
       "      <td>0.20</td>\n",
       "      <td>1/10/2023</td>\n",
       "      <td>NaN</td>\n",
       "      <td>India</td>\n",
       "      <td>NaN</td>\n",
       "    </tr>\n",
       "    <tr>\n",
       "      <th>831</th>\n",
       "      <td>Advata</td>\n",
       "      <td>Seattle</td>\n",
       "      <td>Healthcare</td>\n",
       "      <td>32.0</td>\n",
       "      <td>0.21</td>\n",
       "      <td>10/28/2022</td>\n",
       "      <td>NaN</td>\n",
       "      <td>United States</td>\n",
       "      <td>NaN</td>\n",
       "    </tr>\n",
       "    <tr>\n",
       "      <th>837</th>\n",
       "      <td>Spreetail</td>\n",
       "      <td>Austin</td>\n",
       "      <td>Retail</td>\n",
       "      <td>NaN</td>\n",
       "      <td>NaN</td>\n",
       "      <td>10/27/2022</td>\n",
       "      <td>NaN</td>\n",
       "      <td>United States</td>\n",
       "      <td>NaN</td>\n",
       "    </tr>\n",
       "    <tr>\n",
       "      <th>1183</th>\n",
       "      <td>Gatherly</td>\n",
       "      <td>Atlanta</td>\n",
       "      <td>Marketing</td>\n",
       "      <td>NaN</td>\n",
       "      <td>0.50</td>\n",
       "      <td>7/31/2022</td>\n",
       "      <td>NaN</td>\n",
       "      <td>United States</td>\n",
       "      <td>NaN</td>\n",
       "    </tr>\n",
       "    <tr>\n",
       "      <th>1565</th>\n",
       "      <td>Zapp</td>\n",
       "      <td>London</td>\n",
       "      <td>Food</td>\n",
       "      <td>NaN</td>\n",
       "      <td>0.10</td>\n",
       "      <td>5/25/2022</td>\n",
       "      <td>NaN</td>\n",
       "      <td>United Kingdom</td>\n",
       "      <td>300.0</td>\n",
       "    </tr>\n",
       "  </tbody>\n",
       "</table>\n",
       "</div>"
      ],
      "text/plain": [
       "        company     location    industry  total_laid_off  percentage_laid_off  \\\n",
       "392      Verily  SF Bay Area  Healthcare           250.0                 0.15   \n",
       "414     Relevel    Bengaluru          HR            40.0                 0.20   \n",
       "831      Advata      Seattle  Healthcare            32.0                 0.21   \n",
       "837   Spreetail       Austin      Retail             NaN                  NaN   \n",
       "1183   Gatherly      Atlanta   Marketing             NaN                 0.50   \n",
       "1565       Zapp       London        Food             NaN                 0.10   \n",
       "\n",
       "            date stage         country  funds_raised_millions  \n",
       "392    1/11/2023   NaN   United States                 3500.0  \n",
       "414    1/10/2023   NaN           India                    NaN  \n",
       "831   10/28/2022   NaN   United States                    NaN  \n",
       "837   10/27/2022   NaN   United States                    NaN  \n",
       "1183   7/31/2022   NaN   United States                    NaN  \n",
       "1565   5/25/2022   NaN  United Kingdom                  300.0  "
      ]
     },
     "execution_count": 12,
     "metadata": {},
     "output_type": "execute_result"
    }
   ],
   "source": [
    "#Mengecek data yang kosong (NaN) pada kolom stage\n",
    "df[df['stage'].isna()==1]"
   ]
  },
  {
   "cell_type": "code",
   "execution_count": 13,
   "id": "817196e8",
   "metadata": {},
   "outputs": [
    {
     "name": "stdout",
     "output_type": "stream",
     "text": [
      "\n",
      "Frekuensi kemunculan karakter:\n",
      "Post-IPO          428\n",
      "Unknown           393\n",
      "Series B          305\n",
      "Series C          303\n",
      "Series D          225\n",
      "Series A          177\n",
      "Acquired          172\n",
      "Series E          125\n",
      "Series F           65\n",
      "Seed               65\n",
      "Private Equity     38\n",
      "Series H           24\n",
      "Series G           15\n",
      "Series J            8\n",
      "Series I            7\n",
      "Subsidiary          5\n",
      "Name: stage, dtype: int64\n"
     ]
    }
   ],
   "source": [
    "# Menghitung frekuensi kemunculan karakter\n",
    "stage_counts = df['stage'].value_counts()\n",
    "print(\"\\nFrekuensi kemunculan karakter:\")\n",
    "print(stage_counts)"
   ]
  },
  {
   "cell_type": "code",
   "execution_count": 14,
   "id": "2ddaa44c",
   "metadata": {},
   "outputs": [],
   "source": [
    "#Mengisi nilai kosong pada kolom stage dengan nilai yang sering muncul\n",
    "df['stage'].fillna('Post-IPO', inplace=True)"
   ]
  },
  {
   "cell_type": "code",
   "execution_count": 15,
   "id": "00cfbd6a",
   "metadata": {},
   "outputs": [
    {
     "data": {
      "text/plain": [
       "company                    0\n",
       "location                   0\n",
       "industry                   0\n",
       "total_laid_off           740\n",
       "percentage_laid_off      785\n",
       "date                       1\n",
       "stage                      0\n",
       "country                    0\n",
       "funds_raised_millions    209\n",
       "dtype: int64"
      ]
     },
     "execution_count": 15,
     "metadata": {},
     "output_type": "execute_result"
    }
   ],
   "source": [
    "#Mengecek nilai kosong kolom stage\n",
    "df.isnull().sum()"
   ]
  },
  {
   "cell_type": "code",
   "execution_count": 16,
   "id": "0c3daed4",
   "metadata": {},
   "outputs": [],
   "source": [
    "#Mengisi nilai kosong pada kolom funds_raised_millions dengan nilai tengah atau median\n",
    "df['funds_raised_millions'].fillna(df['funds_raised_millions'].median(), inplace=True)"
   ]
  },
  {
   "cell_type": "code",
   "execution_count": 17,
   "id": "7350541f",
   "metadata": {},
   "outputs": [],
   "source": [
    "#Mengisi nilai kosong pada kolom total_laid_off dengan nilai rata rata\n",
    "df['total_laid_off'].fillna(df['total_laid_off'].mean(), inplace=True)"
   ]
  },
  {
   "cell_type": "code",
   "execution_count": 19,
   "id": "931248e3",
   "metadata": {},
   "outputs": [],
   "source": [
    "#Mengisi nilai kosong pada kolom percentage_laid_off dengan nilai rata rata\n",
    "df['percentage_laid_off'].fillna(df['percentage_laid_off'].mean(), inplace=True)"
   ]
  },
  {
   "cell_type": "code",
   "execution_count": 20,
   "id": "f847d62a",
   "metadata": {},
   "outputs": [],
   "source": [
    "df.dropna(inplace=True)"
   ]
  },
  {
   "cell_type": "code",
   "execution_count": 21,
   "id": "3ad1baaa",
   "metadata": {},
   "outputs": [
    {
     "data": {
      "text/plain": [
       "company                  0\n",
       "location                 0\n",
       "industry                 0\n",
       "total_laid_off           0\n",
       "percentage_laid_off      0\n",
       "date                     0\n",
       "stage                    0\n",
       "country                  0\n",
       "funds_raised_millions    0\n",
       "dtype: int64"
      ]
     },
     "execution_count": 21,
     "metadata": {},
     "output_type": "execute_result"
    }
   ],
   "source": [
    "#Mengecek nilai kosong kolom funds_raised_millions\n",
    "df.isnull().sum()"
   ]
  },
  {
   "cell_type": "code",
   "execution_count": 45,
   "id": "8ac03710",
   "metadata": {},
   "outputs": [
    {
     "name": "stderr",
     "output_type": "stream",
     "text": [
      "<ipython-input-45-567d30be00ed>:2: SettingWithCopyWarning: \n",
      "A value is trying to be set on a copy of a slice from a DataFrame.\n",
      "Try using .loc[row_indexer,col_indexer] = value instead\n",
      "\n",
      "See the caveats in the documentation: https://pandas.pydata.org/pandas-docs/stable/user_guide/indexing.html#returning-a-view-versus-a-copy\n",
      "  df['total_laid_off'] = df['total_laid_off'].round(0).astype(int)\n"
     ]
    }
   ],
   "source": [
    "# Membulatkan ke bilangan bulat terdekat\n",
    "df['total_laid_off'] = df['total_laid_off'].round(0).astype(int)"
   ]
  },
  {
   "cell_type": "code",
   "execution_count": 47,
   "id": "e898777b",
   "metadata": {},
   "outputs": [],
   "source": [
    "# Mengatur tampilan dengan 2 angka di belakang koma\n",
    "df=df.round({'percentage_laid_off': 2})"
   ]
  },
  {
   "cell_type": "code",
   "execution_count": 24,
   "id": "2ae1983b",
   "metadata": {},
   "outputs": [
    {
     "data": {
      "text/plain": [
       "5"
      ]
     },
     "execution_count": 24,
     "metadata": {},
     "output_type": "execute_result"
    }
   ],
   "source": [
    "df.duplicated().sum()"
   ]
  },
  {
   "cell_type": "code",
   "execution_count": 28,
   "id": "7fa300e7",
   "metadata": {},
   "outputs": [
    {
     "data": {
      "text/html": [
       "<div>\n",
       "<style scoped>\n",
       "    .dataframe tbody tr th:only-of-type {\n",
       "        vertical-align: middle;\n",
       "    }\n",
       "\n",
       "    .dataframe tbody tr th {\n",
       "        vertical-align: top;\n",
       "    }\n",
       "\n",
       "    .dataframe thead th {\n",
       "        text-align: right;\n",
       "    }\n",
       "</style>\n",
       "<table border=\"1\" class=\"dataframe\">\n",
       "  <thead>\n",
       "    <tr style=\"text-align: right;\">\n",
       "      <th></th>\n",
       "      <th>company</th>\n",
       "      <th>location</th>\n",
       "      <th>industry</th>\n",
       "      <th>total_laid_off</th>\n",
       "      <th>percentage_laid_off</th>\n",
       "      <th>date</th>\n",
       "      <th>stage</th>\n",
       "      <th>country</th>\n",
       "      <th>funds_raised_millions</th>\n",
       "    </tr>\n",
       "  </thead>\n",
       "  <tbody>\n",
       "    <tr>\n",
       "      <th>1492</th>\n",
       "      <td>Cazoo</td>\n",
       "      <td>London</td>\n",
       "      <td>Transportation</td>\n",
       "      <td>750</td>\n",
       "      <td>0.150000</td>\n",
       "      <td>6/7/2022</td>\n",
       "      <td>Post-IPO</td>\n",
       "      <td>United Kingdom</td>\n",
       "      <td>2000.0</td>\n",
       "    </tr>\n",
       "    <tr>\n",
       "      <th>2357</th>\n",
       "      <td>Yahoo</td>\n",
       "      <td>SF Bay Area</td>\n",
       "      <td>Consumer</td>\n",
       "      <td>1600</td>\n",
       "      <td>0.200000</td>\n",
       "      <td>2/9/2023</td>\n",
       "      <td>Acquired</td>\n",
       "      <td>United States</td>\n",
       "      <td>6.0</td>\n",
       "    </tr>\n",
       "    <tr>\n",
       "      <th>2358</th>\n",
       "      <td>Hibob</td>\n",
       "      <td>Tel Aviv</td>\n",
       "      <td>HR</td>\n",
       "      <td>70</td>\n",
       "      <td>0.300000</td>\n",
       "      <td>3/30/2020</td>\n",
       "      <td>Series A</td>\n",
       "      <td>Israel</td>\n",
       "      <td>45.0</td>\n",
       "    </tr>\n",
       "    <tr>\n",
       "      <th>2359</th>\n",
       "      <td>Casper</td>\n",
       "      <td>New York City</td>\n",
       "      <td>Retail</td>\n",
       "      <td>238</td>\n",
       "      <td>0.257917</td>\n",
       "      <td>9/14/2021</td>\n",
       "      <td>Post-IPO</td>\n",
       "      <td>United States</td>\n",
       "      <td>339.0</td>\n",
       "    </tr>\n",
       "    <tr>\n",
       "      <th>2360</th>\n",
       "      <td>Wildlife Studios</td>\n",
       "      <td>Sao Paulo</td>\n",
       "      <td>Consumer</td>\n",
       "      <td>300</td>\n",
       "      <td>0.200000</td>\n",
       "      <td>11/28/2022</td>\n",
       "      <td>Unknown</td>\n",
       "      <td>Brazil</td>\n",
       "      <td>260.0</td>\n",
       "    </tr>\n",
       "  </tbody>\n",
       "</table>\n",
       "</div>"
      ],
      "text/plain": [
       "               company       location        industry  total_laid_off  \\\n",
       "1492             Cazoo         London  Transportation             750   \n",
       "2357             Yahoo    SF Bay Area        Consumer            1600   \n",
       "2358             Hibob       Tel Aviv              HR              70   \n",
       "2359            Casper  New York City          Retail             238   \n",
       "2360  Wildlife Studios      Sao Paulo        Consumer             300   \n",
       "\n",
       "      percentage_laid_off        date     stage         country  \\\n",
       "1492             0.150000    6/7/2022  Post-IPO  United Kingdom   \n",
       "2357             0.200000    2/9/2023  Acquired   United States   \n",
       "2358             0.300000   3/30/2020  Series A          Israel   \n",
       "2359             0.257917   9/14/2021  Post-IPO   United States   \n",
       "2360             0.200000  11/28/2022   Unknown          Brazil   \n",
       "\n",
       "      funds_raised_millions  \n",
       "1492                 2000.0  \n",
       "2357                    6.0  \n",
       "2358                   45.0  \n",
       "2359                  339.0  \n",
       "2360                  260.0  "
      ]
     },
     "execution_count": 28,
     "metadata": {},
     "output_type": "execute_result"
    }
   ],
   "source": [
    "# Menampilkan data duplikat\n",
    "df[df.duplicated()]"
   ]
  },
  {
   "cell_type": "code",
   "execution_count": 29,
   "id": "3d8ab416",
   "metadata": {},
   "outputs": [],
   "source": [
    "df=df.drop_duplicates()"
   ]
  },
  {
   "cell_type": "code",
   "execution_count": 30,
   "id": "8f83d223",
   "metadata": {},
   "outputs": [
    {
     "data": {
      "text/plain": [
       "0"
      ]
     },
     "execution_count": 30,
     "metadata": {},
     "output_type": "execute_result"
    }
   ],
   "source": [
    "df.duplicated().sum()"
   ]
  },
  {
   "cell_type": "code",
   "execution_count": 31,
   "id": "cc57b9ee",
   "metadata": {},
   "outputs": [
    {
     "name": "stdout",
     "output_type": "stream",
     "text": [
      "company                   object\n",
      "location                  object\n",
      "industry                  object\n",
      "total_laid_off             int32\n",
      "percentage_laid_off      float64\n",
      "date                      object\n",
      "stage                     object\n",
      "country                   object\n",
      "funds_raised_millions    float64\n",
      "dtype: object\n"
     ]
    }
   ],
   "source": [
    "print(df.dtypes)"
   ]
  },
  {
   "cell_type": "code",
   "execution_count": 48,
   "id": "47b3d43f",
   "metadata": {},
   "outputs": [
    {
     "data": {
      "text/html": [
       "<div>\n",
       "<style scoped>\n",
       "    .dataframe tbody tr th:only-of-type {\n",
       "        vertical-align: middle;\n",
       "    }\n",
       "\n",
       "    .dataframe tbody tr th {\n",
       "        vertical-align: top;\n",
       "    }\n",
       "\n",
       "    .dataframe thead th {\n",
       "        text-align: right;\n",
       "    }\n",
       "</style>\n",
       "<table border=\"1\" class=\"dataframe\">\n",
       "  <thead>\n",
       "    <tr style=\"text-align: right;\">\n",
       "      <th></th>\n",
       "      <th>company</th>\n",
       "      <th>location</th>\n",
       "      <th>industry</th>\n",
       "      <th>total_laid_off</th>\n",
       "      <th>percentage_laid_off</th>\n",
       "      <th>date</th>\n",
       "      <th>stage</th>\n",
       "      <th>country</th>\n",
       "      <th>funds_raised_millions</th>\n",
       "    </tr>\n",
       "  </thead>\n",
       "  <tbody>\n",
       "    <tr>\n",
       "      <th>0</th>\n",
       "      <td>Atlassian</td>\n",
       "      <td>Sydney</td>\n",
       "      <td>Other</td>\n",
       "      <td>500</td>\n",
       "      <td>0.05</td>\n",
       "      <td>2023-03-06</td>\n",
       "      <td>Post-IPO</td>\n",
       "      <td>Australia</td>\n",
       "      <td>210.0</td>\n",
       "    </tr>\n",
       "    <tr>\n",
       "      <th>1</th>\n",
       "      <td>SiriusXM</td>\n",
       "      <td>New York City</td>\n",
       "      <td>Media</td>\n",
       "      <td>475</td>\n",
       "      <td>0.08</td>\n",
       "      <td>2023-03-06</td>\n",
       "      <td>Post-IPO</td>\n",
       "      <td>United States</td>\n",
       "      <td>525.0</td>\n",
       "    </tr>\n",
       "    <tr>\n",
       "      <th>2</th>\n",
       "      <td>Alerzo</td>\n",
       "      <td>Ibadan</td>\n",
       "      <td>Retail</td>\n",
       "      <td>400</td>\n",
       "      <td>0.26</td>\n",
       "      <td>2023-03-06</td>\n",
       "      <td>Series B</td>\n",
       "      <td>Nigeria</td>\n",
       "      <td>16.0</td>\n",
       "    </tr>\n",
       "    <tr>\n",
       "      <th>3</th>\n",
       "      <td>UpGrad</td>\n",
       "      <td>Mumbai</td>\n",
       "      <td>Education</td>\n",
       "      <td>120</td>\n",
       "      <td>0.26</td>\n",
       "      <td>2023-03-06</td>\n",
       "      <td>Unknown</td>\n",
       "      <td>India</td>\n",
       "      <td>631.0</td>\n",
       "    </tr>\n",
       "    <tr>\n",
       "      <th>4</th>\n",
       "      <td>Loft</td>\n",
       "      <td>Sao Paulo</td>\n",
       "      <td>Real Estate</td>\n",
       "      <td>340</td>\n",
       "      <td>0.15</td>\n",
       "      <td>2023-03-03</td>\n",
       "      <td>Unknown</td>\n",
       "      <td>Brazil</td>\n",
       "      <td>788.0</td>\n",
       "    </tr>\n",
       "    <tr>\n",
       "      <th>...</th>\n",
       "      <td>...</td>\n",
       "      <td>...</td>\n",
       "      <td>...</td>\n",
       "      <td>...</td>\n",
       "      <td>...</td>\n",
       "      <td>...</td>\n",
       "      <td>...</td>\n",
       "      <td>...</td>\n",
       "      <td>...</td>\n",
       "    </tr>\n",
       "    <tr>\n",
       "      <th>2351</th>\n",
       "      <td>Service</td>\n",
       "      <td>Los Angeles</td>\n",
       "      <td>Travel</td>\n",
       "      <td>238</td>\n",
       "      <td>1.00</td>\n",
       "      <td>2020-03-16</td>\n",
       "      <td>Seed</td>\n",
       "      <td>United States</td>\n",
       "      <td>5.1</td>\n",
       "    </tr>\n",
       "    <tr>\n",
       "      <th>2352</th>\n",
       "      <td>HopSkipDrive</td>\n",
       "      <td>Los Angeles</td>\n",
       "      <td>Transportation</td>\n",
       "      <td>8</td>\n",
       "      <td>0.10</td>\n",
       "      <td>2020-03-13</td>\n",
       "      <td>Unknown</td>\n",
       "      <td>United States</td>\n",
       "      <td>45.0</td>\n",
       "    </tr>\n",
       "    <tr>\n",
       "      <th>2353</th>\n",
       "      <td>Panda Squad</td>\n",
       "      <td>SF Bay Area</td>\n",
       "      <td>Consumer</td>\n",
       "      <td>6</td>\n",
       "      <td>0.75</td>\n",
       "      <td>2020-03-13</td>\n",
       "      <td>Seed</td>\n",
       "      <td>United States</td>\n",
       "      <td>1.0</td>\n",
       "    </tr>\n",
       "    <tr>\n",
       "      <th>2354</th>\n",
       "      <td>Tamara Mellon</td>\n",
       "      <td>Los Angeles</td>\n",
       "      <td>Retail</td>\n",
       "      <td>20</td>\n",
       "      <td>0.40</td>\n",
       "      <td>2020-03-12</td>\n",
       "      <td>Series C</td>\n",
       "      <td>United States</td>\n",
       "      <td>90.0</td>\n",
       "    </tr>\n",
       "    <tr>\n",
       "      <th>2355</th>\n",
       "      <td>EasyPost</td>\n",
       "      <td>Salt Lake City</td>\n",
       "      <td>Logistics</td>\n",
       "      <td>75</td>\n",
       "      <td>0.26</td>\n",
       "      <td>2020-03-11</td>\n",
       "      <td>Series A</td>\n",
       "      <td>United States</td>\n",
       "      <td>12.0</td>\n",
       "    </tr>\n",
       "  </tbody>\n",
       "</table>\n",
       "<p>2355 rows × 9 columns</p>\n",
       "</div>"
      ],
      "text/plain": [
       "            company        location        industry  total_laid_off  \\\n",
       "0         Atlassian          Sydney           Other             500   \n",
       "1          SiriusXM   New York City           Media             475   \n",
       "2            Alerzo          Ibadan          Retail             400   \n",
       "3            UpGrad          Mumbai       Education             120   \n",
       "4              Loft       Sao Paulo     Real Estate             340   \n",
       "...             ...             ...             ...             ...   \n",
       "2351        Service     Los Angeles          Travel             238   \n",
       "2352   HopSkipDrive     Los Angeles  Transportation               8   \n",
       "2353    Panda Squad     SF Bay Area        Consumer               6   \n",
       "2354  Tamara Mellon     Los Angeles          Retail              20   \n",
       "2355       EasyPost  Salt Lake City       Logistics              75   \n",
       "\n",
       "      percentage_laid_off       date     stage        country  \\\n",
       "0                    0.05 2023-03-06  Post-IPO      Australia   \n",
       "1                    0.08 2023-03-06  Post-IPO  United States   \n",
       "2                    0.26 2023-03-06  Series B        Nigeria   \n",
       "3                    0.26 2023-03-06   Unknown          India   \n",
       "4                    0.15 2023-03-03   Unknown         Brazil   \n",
       "...                   ...        ...       ...            ...   \n",
       "2351                 1.00 2020-03-16      Seed  United States   \n",
       "2352                 0.10 2020-03-13   Unknown  United States   \n",
       "2353                 0.75 2020-03-13      Seed  United States   \n",
       "2354                 0.40 2020-03-12  Series C  United States   \n",
       "2355                 0.26 2020-03-11  Series A  United States   \n",
       "\n",
       "      funds_raised_millions  \n",
       "0                     210.0  \n",
       "1                     525.0  \n",
       "2                      16.0  \n",
       "3                     631.0  \n",
       "4                     788.0  \n",
       "...                     ...  \n",
       "2351                    5.1  \n",
       "2352                   45.0  \n",
       "2353                    1.0  \n",
       "2354                   90.0  \n",
       "2355                   12.0  \n",
       "\n",
       "[2355 rows x 9 columns]"
      ]
     },
     "execution_count": 48,
     "metadata": {},
     "output_type": "execute_result"
    }
   ],
   "source": [
    "df['date'] = pd.to_datetime(df['date'])\n",
    "df"
   ]
  },
  {
   "cell_type": "code",
   "execution_count": 33,
   "id": "a0058594",
   "metadata": {},
   "outputs": [
    {
     "name": "stdout",
     "output_type": "stream",
     "text": [
      "company                          object\n",
      "location                         object\n",
      "industry                         object\n",
      "total_laid_off                    int32\n",
      "percentage_laid_off             float64\n",
      "date                     datetime64[ns]\n",
      "stage                            object\n",
      "country                          object\n",
      "funds_raised_millions           float64\n",
      "dtype: object\n"
     ]
    }
   ],
   "source": [
    "print(df.dtypes)"
   ]
  },
  {
   "cell_type": "code",
   "execution_count": 51,
   "id": "e556a851",
   "metadata": {},
   "outputs": [
    {
     "name": "stdout",
     "output_type": "stream",
     "text": [
      "\n",
      "Urutan total diberhentikan tertinggi:\n",
      "          location  total_laid_off\n",
      "147    SF Bay Area          168947\n",
      "125  New York City           47452\n",
      "158        Seattle           41883\n",
      "17       Bengaluru           24405\n",
      "24          Boston           19591\n",
      "..             ...             ...\n",
      "129        Orlando              24\n",
      "44            Cork              21\n",
      "86            Kiel              21\n",
      "83     Kansas City              20\n",
      "76    Indianapolis               5\n",
      "\n",
      "[190 rows x 2 columns]\n"
     ]
    }
   ],
   "source": [
    "sum_by_location = df.groupby('location')['total_laid_off'].sum().reset_index().sort_values(by='total_laid_off', ascending=False)\n",
    "# Menampilkan hasil\n",
    "print(\"\\nUrutan total diberhentikan tertinggi:\")\n",
    "print(sum_by_location)"
   ]
  },
  {
   "cell_type": "code",
   "execution_count": 49,
   "id": "da348888",
   "metadata": {},
   "outputs": [
    {
     "name": "stdout",
     "output_type": "stream",
     "text": [
      "\n",
      "Urutan Pendapatan Tertinggi:\n",
      "         company  funds_raised_millions\n",
      "1083     Netflix               487600.0\n",
      "1688        Uber               123500.0\n",
      "1684     Twitter                44400.0\n",
      "1783      WeWork                43500.0\n",
      "1784     WeWork                 41700.0\n",
      "...          ...                    ...\n",
      "493         Drip                    0.0\n",
      "1879   divvyDOSE                    0.0\n",
      "1547  SuperLearn                    0.0\n",
      "318    Chessable                    0.0\n",
      "174       BitMEX                    0.0\n",
      "\n",
      "[1892 rows x 2 columns]\n"
     ]
    }
   ],
   "source": [
    "sum_by_company = df.groupby('company')['funds_raised_millions'].sum().reset_index().sort_values(by='funds_raised_millions', ascending=False)\n",
    "# Menampilkan hasil\n",
    "print(\"\\nUrutan Pendapatan Tertinggi:\")\n",
    "print(sum_by_company)"
   ]
  },
  {
   "cell_type": "markdown",
   "id": "291ec864",
   "metadata": {},
   "source": [
    "# Data Visualization"
   ]
  },
  {
   "cell_type": "code",
   "execution_count": 43,
   "id": "ca249c41",
   "metadata": {},
   "outputs": [
    {
     "data": {
      "image/png": "[encoded data removed]",
      "text/plain": [
       "<Figure size 648x504 with 1 Axes>"
      ]
     },
     "metadata": {
      "needs_background": "light"
     },
     "output_type": "display_data"
    }
   ],
   "source": [
    "plt.figure(figsize=(9, 7))\n",
    "sns.barplot(data=sum_by_category.head(), x='company', y='funds_raised_millions')\n",
    "plt.xlabel('company', size=20)\n",
    "plt.ylabel('funds raised millions', size= 20)\n",
    "plt.title('Top 5 Funds Raised Each Company', size=25)\n",
    "plt.xticks(rotation=90, size=15) \n",
    "plt.yticks(size=15)\n",
    "plt.grid(True)\n",
    "plt.show()"
   ]
  },
  {
   "cell_type": "code",
   "execution_count": 53,
   "id": "65dafc07",
   "metadata": {},
   "outputs": [
    {
     "data": {
      "image/png": "[encoded data removed]",
      "text/plain": [
       "<Figure size 576x576 with 1 Axes>"
      ]
     },
     "metadata": {},
     "output_type": "display_data"
    }
   ],
   "source": [
    "plt.figure(figsize=(8, 8))\n",
    "laid_off = sum_by_location.head().groupby(\"location\")[\"total_laid_off\"].sum().reset_index()\n",
    "wedges, texts, autotexts = plt.pie(laid_off[\"total_laid_off\"], labels=laid_off[\"location\"], autopct=\"%1.1f%%\", pctdistance=0.8,textprops=dict(color=\"k\"))\n",
    "for text in texts:\n",
    "    text.set_fontsize(14)\n",
    "for autotext in autotexts:\n",
    "    autotext.set_fontsize(14)\n",
    "plt.title('Top 5 Total Laid Off Each Location', size=25)\n",
    "plt.show()"
   ]
  },
  {
   "cell_type": "code",
   "execution_count": null,
   "id": "932439f5",
   "metadata": {},
   "outputs": [],
   "source": []
  },
  {
   "cell_type": "code",
   "execution_count": null,
   "id": "91e0d2cd",
   "metadata": {},
   "outputs": [],
   "source": []
  }
 ],
 "metadata": {
  "kernelspec": {
   "display_name": "Python 3",
   "language": "python",
   "name": "python3"
  },
  "language_info": {
   "codemirror_mode": {
    "name": "ipython",
    "version": 3
   },
   "file_extension": ".py",
   "mimetype": "text/x-python",
   "name": "python",
   "nbconvert_exporter": "python",
   "pygments_lexer": "ipython3",
   "version": "3.8.8"
  }
 },
 "nbformat": 4,
 "nbformat_minor": 5
}
